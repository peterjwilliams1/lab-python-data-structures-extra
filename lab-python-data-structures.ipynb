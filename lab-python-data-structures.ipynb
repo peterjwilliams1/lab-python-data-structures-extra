{
 "cells": [
  {
   "cell_type": "markdown",
   "metadata": {
    "tags": []
   },
   "source": [
    "# Lab | Data Structures "
   ]
  },
  {
   "cell_type": "markdown",
   "metadata": {},
   "source": [
    "## Exercise: Managing Customer Orders\n",
    "\n",
    "As part of a business venture, you are starting an online store that sells various products. To ensure smooth operations, you need to develop a program that manages customer orders and inventory.\n",
    "\n",
    "Follow the steps below to complete the exercise:\n",
    "\n",
    "1. Define a list called `products` that contains the following items: \"t-shirt\", \"mug\", \"hat\", \"book\", \"keychain\".\n",
    "\n",
    "2. Create an empty dictionary called `inventory`.\n",
    "\n",
    "3. Ask the user to input the quantity of each product available in the inventory. Use the product names from the `products` list as keys in the `inventory` dictionary and assign the respective quantities as values.\n",
    "\n",
    "4. Create an empty set called `customer_orders`.\n",
    "\n",
    "5. Ask the user to input the name of three products that a customer wants to order (from those in the products list, meaning three products out of \"t-shirt\", \"mug\", \"hat\", \"book\" or \"keychain\". Add each product name to the `customer_orders` set.\n",
    "\n",
    "6. Print the products in the `customer_orders` set.\n",
    "\n",
    "7. Calculate the following order statistics:\n",
    "   - Total Products Ordered: The total number of products in the `customer_orders` set.\n",
    "   - Percentage of Products Ordered: The percentage of products ordered compared to the total available products.\n",
    "   \n",
    "   Store these statistics in a tuple called `order_status`.\n",
    "\n",
    "8. Print the order statistics using the following format:\n",
    "   ```\n",
    "   Order Statistics:\n",
    "   Total Products Ordered: <total_products_ordered>\n",
    "   Percentage of Products Ordered: <percentage_ordered>% \n",
    "   ```\n",
    "\n",
    "9. Update the inventory by subtracting 1 from the quantity of each product. Modify the `inventory` dictionary accordingly.\n",
    "\n",
    "10. Print the updated inventory, displaying the quantity of each product on separate lines.\n",
    "\n",
    "Solve the exercise by implementing the steps using the Python concepts of lists, dictionaries, sets, and basic input/output operations. "
   ]
  },
  {
   "cell_type": "code",
   "execution_count": 47,
   "metadata": {},
   "outputs": [
    {
     "name": "stdin",
     "output_type": "stream",
     "text": [
      "Enter Amount of T shirts: 1\n",
      "Enter Amount of Mug: 2\n",
      "Enter Amount of Hats: 3\n",
      "Enter Amount of Books: 3\n",
      "Enter Amount of Keychains: 4\n"
     ]
    }
   ],
   "source": [
    "products =[\"t-shirt\", \"mug\", \"hat\", \"book\", \"keychain\"]\n",
    "inventory = {}\n",
    "inventory[\"t-shirt\"]= input(\"Enter Amount of T shirts:\")\n",
    "inventory[\"mug\"]= input(\"Enter Amount of Mug:\")\n",
    "inventory[\"hat\"]= input(\"Enter Amount of Hats:\")\n",
    "inventory[\"book\"]= input(\"Enter Amount of Books:\")\n",
    "inventory[\"keychain\"]= input(\"Enter Amount of Keychains:\")\n"
   ]
  },
  {
   "cell_type": "code",
   "execution_count": 49,
   "metadata": {},
   "outputs": [
    {
     "data": {
      "text/plain": [
       "{'t-shirt': '1', 'mug': '2', 'hat': '3', 'book': '3', 'keychain': '4'}"
      ]
     },
     "execution_count": 49,
     "metadata": {},
     "output_type": "execute_result"
    }
   ],
   "source": [
    "inventory"
   ]
  },
  {
   "cell_type": "code",
   "execution_count": 93,
   "metadata": {},
   "outputs": [
    {
     "name": "stdin",
     "output_type": "stream",
     "text": [
      "Enter Product To Order: hat\n",
      "Enter Amount: 2\n",
      "Enter Product To Order: mug\n",
      "Enter Amount: 3\n",
      "Enter Product To Order: book\n",
      "Enter Amount: 4\n"
     ]
    }
   ],
   "source": [
    "customer_orders = set()\n",
    "item_desc_1 = input(\"Enter Product To Order:\")\n",
    "customer_orders.add(item_desc_1)\n",
    "item_amount_1 = int(input(\"Enter Amount:\"))\n",
    "item_desc_2 = input(\"Enter Product To Order:\")\n",
    "customer_orders.add(item_desc_2)\n",
    "item_amount_2 = int(input(\"Enter Amount:\"))\n",
    "item_desc_3 = input(\"Enter Product To Order:\")\n",
    "customer_orders.add(item_desc_3)\n",
    "item_amount_3 = int(input(\"Enter Amount:\"))"
   ]
  },
  {
   "cell_type": "code",
   "execution_count": 139,
   "metadata": {},
   "outputs": [
    {
     "data": {
      "text/plain": [
       "{'t-shirt': '1', 'mug': '2', 'hat': '3', 'book': '3', 'keychain': '4'}"
      ]
     },
     "execution_count": 139,
     "metadata": {},
     "output_type": "execute_result"
    }
   ],
   "source": [
    "inventory"
   ]
  },
  {
   "cell_type": "code",
   "execution_count": 113,
   "metadata": {},
   "outputs": [
    {
     "name": "stdout",
     "output_type": "stream",
     "text": [
      "9\n"
     ]
    }
   ],
   "source": [
    "total=item_amount_1+item_amount_2+item_amount_3\n",
    "print(total)"
   ]
  },
  {
   "cell_type": "code",
   "execution_count": 121,
   "metadata": {},
   "outputs": [
    {
     "name": "stdout",
     "output_type": "stream",
     "text": [
      "3\n"
     ]
    }
   ],
   "source": [
    "customer_orders = {\"hat\":2,\"mug\":3,\"book\":4}\n",
    "items = len(customer_orders)\n",
    "print(items)"
   ]
  },
  {
   "cell_type": "code",
   "execution_count": 154,
   "metadata": {},
   "outputs": [
    {
     "name": "stdout",
     "output_type": "stream",
     "text": [
      "Order Statistics:\n",
      " Total Products Ordered:  5 \n",
      " Percentage of Products Ordered:  60.0 %\n"
     ]
    }
   ],
   "source": [
    "customer_orders = {\"hat\":2,\"mug\":3,\"book\":4}\n",
    "items = 5\n",
    "ordered = 3\n",
    "order_status = ordered/items*100\n",
    "print(\"Order Statistics:\\n\",\"Total Products Ordered: \", items,\"\\n Percentage of Products Ordered: \", order_status,\"%\")   "
   ]
  },
  {
   "cell_type": "code",
   "execution_count": 168,
   "metadata": {},
   "outputs": [
    {
     "name": "stdout",
     "output_type": "stream",
     "text": [
      "Updated Customer Order:\n",
      "hat: 1\n",
      "mug: 2\n",
      "book: 3\n"
     ]
    }
   ],
   "source": [
    "customer_orders = {\"hat\":2,\"mug\":3,\"book\":4}\n",
    "for product in customer_orders:\n",
    "    customer_orders[product] -= 1\n",
    "print(\"Updated Customer Order:\")\n",
    "for product, quantity in customer_orders.items(): #This prints a new line for each item in the dictionary.\n",
    "    print(f\"{product}: {quantity}\")\n",
    "\n"
   ]
  },
  {
   "cell_type": "code",
   "execution_count": null,
   "metadata": {},
   "outputs": [],
   "source": []
  }
 ],
 "metadata": {
  "kernelspec": {
   "display_name": "Python [conda env:base] *",
   "language": "python",
   "name": "conda-base-py"
  },
  "language_info": {
   "codemirror_mode": {
    "name": "ipython",
    "version": 3
   },
   "file_extension": ".py",
   "mimetype": "text/x-python",
   "name": "python",
   "nbconvert_exporter": "python",
   "pygments_lexer": "ipython3",
   "version": "3.12.7"
  }
 },
 "nbformat": 4,
 "nbformat_minor": 4
}
